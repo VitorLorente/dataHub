{
 "cells": [
  {
   "cell_type": "code",
   "execution_count": 6,
   "metadata": {},
   "outputs": [],
   "source": [
    "import os\n",
    "\n",
    "import psycopg2 as psq\n",
    "from pymongo import MongoClient\n",
    "from dotenv import load_dotenv\n",
    "import pandas as pd"
   ]
  },
  {
   "cell_type": "code",
   "execution_count": 13,
   "metadata": {},
   "outputs": [
    {
     "name": "stdout",
     "output_type": "stream",
     "text": [
      "   id           nome sigla\n",
      "0   4         Brazil   BRA\n",
      "1   5  United States   USA\n",
      "2   6        Germany   DEU\n"
     ]
    }
   ],
   "source": [
    "# Carregar variáveis de ambiente do .env\n",
    "load_dotenv()\n",
    "\n",
    "# Configuração do PostgreSQL\n",
    "pg_config = {\n",
    "    \"dbname\": os.getenv(\"POSTGRES_DB\"),\n",
    "    \"user\": os.getenv(\"POSTGRES_USER\"),\n",
    "    \"password\": os.getenv(\"POSTGRES_PASSWORD\"),\n",
    "    \"host\": \"localhost\",\n",
    "    \"port\": \"5432\"\n",
    "}\n",
    "\n",
    "conn = psq.connect(**pg_config)\n",
    "cursor = conn.cursor()\n",
    "\n",
    "# Criando tabela de exemplo\n",
    "cursor.execute(\n",
    "    \"\"\"\n",
    "    INSERT INTO Pais (nome, sigla)\n",
    "    VALUES\n",
    "        ('Brazil', 'BRA'),\n",
    "        ('United States', 'USA'),\n",
    "        ('Germany', 'DEU') \n",
    "    \"\"\"\n",
    ")\n",
    "\n",
    "query = \"SELECT * FROM Pais;\"\n",
    "cursor.execute(query)\n",
    "\n",
    "# Obter os nomes das colunas\n",
    "colunas = [desc[0] for desc in cursor.description]\n",
    "\n",
    "# Obter os dados e transformar em DataFrame\n",
    "dados = cursor.fetchall()\n",
    "df = pd.DataFrame(dados, columns=colunas)\n",
    "\n",
    "# Fechar a conexão\n",
    "cursor.close()\n",
    "conn.close()\n",
    "\n",
    "# Mostrar o DataFrame\n",
    "print(df)"
   ]
  }
 ],
 "metadata": {
  "kernelspec": {
   "display_name": ".venv",
   "language": "python",
   "name": "python3"
  },
  "language_info": {
   "codemirror_mode": {
    "name": "ipython",
    "version": 3
   },
   "file_extension": ".py",
   "mimetype": "text/x-python",
   "name": "python",
   "nbconvert_exporter": "python",
   "pygments_lexer": "ipython3",
   "version": "3.12.4"
  }
 },
 "nbformat": 4,
 "nbformat_minor": 2
}
